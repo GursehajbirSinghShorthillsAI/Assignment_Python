{
 "cells": [
  {
   "cell_type": "markdown",
   "metadata": {},
   "source": [
    "# 1. Abstract FileLoader Class and Concrete File Loaders"
   ]
  },
  {
   "cell_type": "code",
   "execution_count": 3,
   "metadata": {},
   "outputs": [],
   "source": [
    "class FileLoader(ABC):\n",
    "    def __init__(self, filepath):\n",
    "        self.filepath = filepath\n",
    "\n",
    "    @abstractmethod\n",
    "    def validate_file(self):\n",
    "        pass\n",
    "    \n",
    "    @abstractmethod\n",
    "    def load_file(self):\n",
    "        pass"
   ]
  },
  {
   "cell_type": "code",
   "execution_count": 4,
   "metadata": {},
   "outputs": [],
   "source": [
    "# Concrete class for PDF\n",
    "class PDFLoader(FileLoader):\n",
    "    def validate_file(self):\n",
    "        return self.filepath.endswith('.pdf')\n",
    "\n",
    "    def load_file(self):\n",
    "        if not self.validate_file():\n",
    "            raise ValueError(\"Invalid PDF file.\")\n",
    "        reader = PdfReader(self.filepath)\n",
    "        return reader"
   ]
  },
  {
   "cell_type": "code",
   "execution_count": 5,
   "metadata": {},
   "outputs": [],
   "source": [
    "class DOCXLoader(FileLoader):\n",
    "    def validate_file(self):\n",
    "        return self.filepath.endswith('.docx')\n",
    "\n",
    "    def load_file(self):\n",
    "        if not self.validate_file():\n",
    "            raise ValueError(\"Invalid DOCX file.\")\n",
    "        document = Document(self.filepath)\n",
    "        return document\n"
   ]
  },
  {
   "cell_type": "code",
   "execution_count": 6,
   "metadata": {},
   "outputs": [],
   "source": [
    "# Concrete class for PPT\n",
    "class PPTLoader(FileLoader):\n",
    "    def validate_file(self):\n",
    "        return self.filepath.endswith('.pptx')\n",
    "\n",
    "    def load_file(self):\n",
    "        if not self.validate_file():\n",
    "            raise ValueError(\"Invalid PPTX file.\")\n",
    "        presentation = Presentation(self.filepath)\n",
    "        return presentation"
   ]
  },
  {
   "cell_type": "code",
   "execution_count": 7,
   "metadata": {},
   "outputs": [],
   "source": [
    "# Concrete class for PDF\n",
    "class PDFLoader(FileLoader):\n",
    "    def validate_file(self):\n",
    "        return self.filepath.endswith('.pdf')\n",
    "\n",
    "    def load_file(self):\n",
    "        if not self.validate_file():\n",
    "            raise ValueError(\"Invalid PDF file.\")\n",
    "        reader = PdfReader(self.filepath)\n",
    "        return reader"
   ]
  },
  {
   "cell_type": "markdown",
   "metadata": {},
   "source": [
    "# Data Extractor Class"
   ]
  },
  {
   "cell_type": "code",
   "execution_count": 8,
   "metadata": {},
   "outputs": [],
   "source": [
    "class DataExtractor:\n",
    "    def __init__(self, file_loader: FileLoader):\n",
    "        self.file_loader = file_loader\n",
    "        self.file_data = self.file_loader.load_file()\n",
    "\n",
    "    def extract_text(self):\n",
    "        # Implementation will depend on file type\n",
    "        if isinstance(self.file_loader, PDFLoader):\n",
    "            text = ''\n",
    "            for page in self.file_data.pages:\n",
    "                text += page.extract_text()\n",
    "            return text\n",
    "\n",
    "        elif isinstance(self.file_loader, DOCXLoader):\n",
    "            return '\\n'.join([para.text for para in self.file_data.paragraphs])\n",
    "\n",
    "        elif isinstance(self.file_loader, PPTLoader):\n",
    "            text = ''\n",
    "            for slide in self.file_data.slides:\n",
    "                for shape in slide.shapes:\n",
    "                    if hasattr(shape, \"text\"):\n",
    "                        text += shape.text + '\\n'\n",
    "            return text\n",
    "\n",
    "    def extract_links(self):\n",
    "        # Placeholder for hyperlink extraction logic\n",
    "        return \"No links found yet.\"\n",
    "\n",
    "    def extract_images(self):\n",
    "        image_counter = 0\n",
    "        if isinstance(self.file_loader, PPTLoader):\n",
    "            for slide in self.file_data.slides:\n",
    "                for shape in slide.shapes:\n",
    "                    if hasattr(shape, \"image\"):\n",
    "                        image = shape.image\n",
    "                        image_path = os.path.join(output_dir, f'image_{image_counter}.jpg')\n",
    "                        image.save(image_path)\n",
    "                        image_counter += 1\n",
    "        # Logic for DOCX, PPT, and PDF images\n",
    "        return image_counter\n",
    "\n",
    "    def extract_tables(self):\n",
    "        # Placeholder for table extraction logic\n",
    "        # Placeholder for table extraction logic (currently focusing on DOCX/PDF/PPT)\n",
    "        # As an example, let's assume it extracts tables in DOCX and PPT.\n",
    "        if isinstance(self.file_loader, DOCXLoader):\n",
    "            # Placeholder code for tables in DOCX\n",
    "            tables = []\n",
    "            for table in self.file_data.tables:\n",
    "                data = [[cell.text for cell in row.cells] for row in table.rows]\n",
    "                df = pd.DataFrame(data)\n",
    "                csv_path = os.path.join(output_dir, 'table.csv')\n",
    "                df.to_csv(csv_path, index=False)\n",
    "            return len(self.file_data.tables)\n",
    "        return 0\n"
   ]
  },
  {
   "cell_type": "code",
   "execution_count": 9,
   "metadata": {},
   "outputs": [],
   "source": [
    "output_dir = 'shtlp_0126@SHTLP0126:~/Desktop/Assignment_Python/Output'\n"
   ]
  },
  {
   "cell_type": "code",
   "execution_count": 10,
   "metadata": {},
   "outputs": [],
   "source": [
    "# Ensure output directory exists\n",
    "if not os.path.exists(output_dir):\n",
    "    os.makedirs(output_dir)\n"
   ]
  },
  {
   "cell_type": "markdown",
   "metadata": {},
   "source": [
    "# Abstract Storage Class and Concrete Storages"
   ]
  },
  {
   "cell_type": "code",
   "execution_count": 11,
   "metadata": {},
   "outputs": [],
   "source": [
    "class FileStorage:\n",
    "    def __init__(self, data_extractor: DataExtractor):\n",
    "        self.data_extractor = data_extractor\n",
    "\n",
    "    def save(self, output_dir):\n",
    "        # Saving extracted text\n",
    "        with open(os.path.join(output_dir, 'extracted_text.txt'), 'w') as f:\n",
    "            text = self.data_extractor.extract_text()\n",
    "            f.write(text)\n",
    "\n",
    "        # Saving extracted links\n",
    "        links = self.data_extractor.extract_links()\n",
    "        with open(os.path.join(output_dir, 'extracted_links.txt'), 'w') as f:\n",
    "            f.write(links)\n",
    "\n",
    "        # Saving extracted images\n",
    "        num_images = self.data_extractor.extract_images(output_dir)\n",
    "        print(f\"Saved {num_images} images.\")\n",
    "\n",
    "        # Saving extracted tables\n",
    "        num_tables = self.data_extractor.extract_tables(output_dir)\n",
    "        print(f\"Saved {num_tables} tables as CSV.\")"
   ]
  },
  {
   "cell_type": "code",
   "execution_count": 12,
   "metadata": {},
   "outputs": [
    {
     "ename": "TypeError",
     "evalue": "tuple indices must be integers or slices, not Bunch",
     "output_type": "error",
     "traceback": [
      "\u001b[0;31m---------------------------------------------------------------------------\u001b[0m",
      "\u001b[0;31mTypeError\u001b[0m                                 Traceback (most recent call last)",
      "File \u001b[0;32m~/.local/lib/python3.10/site-packages/ipywidgets/widgets/widget.py:773\u001b[0m, in \u001b[0;36mWidget._handle_msg\u001b[0;34m(self, msg)\u001b[0m\n\u001b[1;32m    771\u001b[0m         \u001b[38;5;28;01mif\u001b[39;00m \u001b[38;5;124m'\u001b[39m\u001b[38;5;124mbuffer_paths\u001b[39m\u001b[38;5;124m'\u001b[39m \u001b[38;5;129;01min\u001b[39;00m data:\n\u001b[1;32m    772\u001b[0m             _put_buffers(state, data[\u001b[38;5;124m'\u001b[39m\u001b[38;5;124mbuffer_paths\u001b[39m\u001b[38;5;124m'\u001b[39m], msg[\u001b[38;5;124m'\u001b[39m\u001b[38;5;124mbuffers\u001b[39m\u001b[38;5;124m'\u001b[39m])\n\u001b[0;32m--> 773\u001b[0m         \u001b[38;5;28;43mself\u001b[39;49m\u001b[38;5;241;43m.\u001b[39;49m\u001b[43mset_state\u001b[49m\u001b[43m(\u001b[49m\u001b[43mstate\u001b[49m\u001b[43m)\u001b[49m\n\u001b[1;32m    775\u001b[0m \u001b[38;5;66;03m# Handle a state request.\u001b[39;00m\n\u001b[1;32m    776\u001b[0m \u001b[38;5;28;01melif\u001b[39;00m method \u001b[38;5;241m==\u001b[39m \u001b[38;5;124m'\u001b[39m\u001b[38;5;124mrequest_state\u001b[39m\u001b[38;5;124m'\u001b[39m:\n",
      "File \u001b[0;32m~/.local/lib/python3.10/site-packages/ipywidgets/widgets/widget.py:650\u001b[0m, in \u001b[0;36mWidget.set_state\u001b[0;34m(self, sync_data)\u001b[0m\n\u001b[1;32m    645\u001b[0m         \u001b[38;5;28mself\u001b[39m\u001b[38;5;241m.\u001b[39m_send(msg, buffers\u001b[38;5;241m=\u001b[39mecho_buffers)\n\u001b[1;32m    647\u001b[0m \u001b[38;5;66;03m# The order of these context managers is important. Properties must\u001b[39;00m\n\u001b[1;32m    648\u001b[0m \u001b[38;5;66;03m# be locked when the hold_trait_notification context manager is\u001b[39;00m\n\u001b[1;32m    649\u001b[0m \u001b[38;5;66;03m# released and notifications are fired.\u001b[39;00m\n\u001b[0;32m--> 650\u001b[0m \u001b[38;5;28;01mwith\u001b[39;00m \u001b[38;5;28mself\u001b[39m\u001b[38;5;241m.\u001b[39m_lock_property(\u001b[38;5;241m*\u001b[39m\u001b[38;5;241m*\u001b[39msync_data), \u001b[38;5;28mself\u001b[39m\u001b[38;5;241m.\u001b[39mhold_trait_notifications():\n\u001b[1;32m    651\u001b[0m     \u001b[38;5;28;01mfor\u001b[39;00m name \u001b[38;5;129;01min\u001b[39;00m sync_data:\n\u001b[1;32m    652\u001b[0m         \u001b[38;5;28;01mif\u001b[39;00m name \u001b[38;5;129;01min\u001b[39;00m \u001b[38;5;28mself\u001b[39m\u001b[38;5;241m.\u001b[39mkeys:\n",
      "File \u001b[0;32m/usr/lib/python3.10/contextlib.py:142\u001b[0m, in \u001b[0;36m_GeneratorContextManager.__exit__\u001b[0;34m(self, typ, value, traceback)\u001b[0m\n\u001b[1;32m    140\u001b[0m \u001b[38;5;28;01mif\u001b[39;00m typ \u001b[38;5;129;01mis\u001b[39;00m \u001b[38;5;28;01mNone\u001b[39;00m:\n\u001b[1;32m    141\u001b[0m     \u001b[38;5;28;01mtry\u001b[39;00m:\n\u001b[0;32m--> 142\u001b[0m         \u001b[38;5;28;43mnext\u001b[39;49m\u001b[43m(\u001b[49m\u001b[38;5;28;43mself\u001b[39;49m\u001b[38;5;241;43m.\u001b[39;49m\u001b[43mgen\u001b[49m\u001b[43m)\u001b[49m\n\u001b[1;32m    143\u001b[0m     \u001b[38;5;28;01mexcept\u001b[39;00m \u001b[38;5;167;01mStopIteration\u001b[39;00m:\n\u001b[1;32m    144\u001b[0m         \u001b[38;5;28;01mreturn\u001b[39;00m \u001b[38;5;28;01mFalse\u001b[39;00m\n",
      "File \u001b[0;32m~/.local/lib/python3.10/site-packages/traitlets/traitlets.py:1510\u001b[0m, in \u001b[0;36mHasTraits.hold_trait_notifications\u001b[0;34m(self)\u001b[0m\n\u001b[1;32m   1508\u001b[0m \u001b[38;5;28;01mfor\u001b[39;00m changes \u001b[38;5;129;01min\u001b[39;00m cache\u001b[38;5;241m.\u001b[39mvalues():\n\u001b[1;32m   1509\u001b[0m     \u001b[38;5;28;01mfor\u001b[39;00m change \u001b[38;5;129;01min\u001b[39;00m changes:\n\u001b[0;32m-> 1510\u001b[0m         \u001b[38;5;28;43mself\u001b[39;49m\u001b[38;5;241;43m.\u001b[39;49m\u001b[43mnotify_change\u001b[49m\u001b[43m(\u001b[49m\u001b[43mchange\u001b[49m\u001b[43m)\u001b[49m\n",
      "File \u001b[0;32m~/.local/lib/python3.10/site-packages/ipywidgets/widgets/widget.py:701\u001b[0m, in \u001b[0;36mWidget.notify_change\u001b[0;34m(self, change)\u001b[0m\n\u001b[1;32m    698\u001b[0m     \u001b[38;5;28;01mif\u001b[39;00m name \u001b[38;5;129;01min\u001b[39;00m \u001b[38;5;28mself\u001b[39m\u001b[38;5;241m.\u001b[39mkeys \u001b[38;5;129;01mand\u001b[39;00m \u001b[38;5;28mself\u001b[39m\u001b[38;5;241m.\u001b[39m_should_send_property(name, \u001b[38;5;28mgetattr\u001b[39m(\u001b[38;5;28mself\u001b[39m, name)):\n\u001b[1;32m    699\u001b[0m         \u001b[38;5;66;03m# Send new state to front-end\u001b[39;00m\n\u001b[1;32m    700\u001b[0m         \u001b[38;5;28mself\u001b[39m\u001b[38;5;241m.\u001b[39msend_state(key\u001b[38;5;241m=\u001b[39mname)\n\u001b[0;32m--> 701\u001b[0m \u001b[38;5;28;43msuper\u001b[39;49m\u001b[43m(\u001b[49m\u001b[43m)\u001b[49m\u001b[38;5;241;43m.\u001b[39;49m\u001b[43mnotify_change\u001b[49m\u001b[43m(\u001b[49m\u001b[43mchange\u001b[49m\u001b[43m)\u001b[49m\n",
      "File \u001b[0;32m~/.local/lib/python3.10/site-packages/traitlets/traitlets.py:1525\u001b[0m, in \u001b[0;36mHasTraits.notify_change\u001b[0;34m(self, change)\u001b[0m\n\u001b[1;32m   1523\u001b[0m \u001b[38;5;28;01mdef\u001b[39;00m \u001b[38;5;21mnotify_change\u001b[39m(\u001b[38;5;28mself\u001b[39m, change: Bunch) \u001b[38;5;241m-\u001b[39m\u001b[38;5;241m>\u001b[39m \u001b[38;5;28;01mNone\u001b[39;00m:\n\u001b[1;32m   1524\u001b[0m \u001b[38;5;250m    \u001b[39m\u001b[38;5;124;03m\"\"\"Notify observers of a change event\"\"\"\u001b[39;00m\n\u001b[0;32m-> 1525\u001b[0m     \u001b[38;5;28;01mreturn\u001b[39;00m \u001b[38;5;28;43mself\u001b[39;49m\u001b[38;5;241;43m.\u001b[39;49m\u001b[43m_notify_observers\u001b[49m\u001b[43m(\u001b[49m\u001b[43mchange\u001b[49m\u001b[43m)\u001b[49m\n",
      "File \u001b[0;32m~/.local/lib/python3.10/site-packages/traitlets/traitlets.py:1568\u001b[0m, in \u001b[0;36mHasTraits._notify_observers\u001b[0;34m(self, event)\u001b[0m\n\u001b[1;32m   1565\u001b[0m \u001b[38;5;28;01melif\u001b[39;00m \u001b[38;5;28misinstance\u001b[39m(c, EventHandler) \u001b[38;5;129;01mand\u001b[39;00m c\u001b[38;5;241m.\u001b[39mname \u001b[38;5;129;01mis\u001b[39;00m \u001b[38;5;129;01mnot\u001b[39;00m \u001b[38;5;28;01mNone\u001b[39;00m:\n\u001b[1;32m   1566\u001b[0m     c \u001b[38;5;241m=\u001b[39m \u001b[38;5;28mgetattr\u001b[39m(\u001b[38;5;28mself\u001b[39m, c\u001b[38;5;241m.\u001b[39mname)\n\u001b[0;32m-> 1568\u001b[0m \u001b[43mc\u001b[49m\u001b[43m(\u001b[49m\u001b[43mevent\u001b[49m\u001b[43m)\u001b[49m\n",
      "Cell \u001b[0;32mIn[13], line 3\u001b[0m, in \u001b[0;36mhandle_upload\u001b[0;34m(change)\u001b[0m\n\u001b[1;32m      1\u001b[0m \u001b[38;5;28;01mdef\u001b[39;00m \u001b[38;5;21mhandle_upload\u001b[39m(change):\n\u001b[1;32m      2\u001b[0m     \u001b[38;5;28;01mfor\u001b[39;00m file_info \u001b[38;5;129;01min\u001b[39;00m uploader\u001b[38;5;241m.\u001b[39mvalue:\n\u001b[0;32m----> 3\u001b[0m         filepath \u001b[38;5;241m=\u001b[39m os\u001b[38;5;241m.\u001b[39mpath\u001b[38;5;241m.\u001b[39mjoin(output_dir, \u001b[43muploader\u001b[49m\u001b[38;5;241;43m.\u001b[39;49m\u001b[43mvalue\u001b[49m\u001b[43m[\u001b[49m\u001b[43mfile_info\u001b[49m\u001b[43m]\u001b[49m[\u001b[38;5;124m'\u001b[39m\u001b[38;5;124mname\u001b[39m\u001b[38;5;124m'\u001b[39m])\n\u001b[1;32m      5\u001b[0m         \u001b[38;5;66;03m# Save uploaded file to output directory\u001b[39;00m\n\u001b[1;32m      6\u001b[0m         \u001b[38;5;28;01mwith\u001b[39;00m \u001b[38;5;28mopen\u001b[39m(filepath, \u001b[38;5;124m'\u001b[39m\u001b[38;5;124mwb\u001b[39m\u001b[38;5;124m'\u001b[39m) \u001b[38;5;28;01mas\u001b[39;00m f:\n",
      "\u001b[0;31mTypeError\u001b[0m: tuple indices must be integers or slices, not Bunch"
     ]
    }
   ],
   "source": [
    "uploader = widgets.FileUpload(accept='.pdf,.docx,.pptx', multiple=False)"
   ]
  },
  {
   "cell_type": "code",
   "execution_count": 13,
   "metadata": {},
   "outputs": [],
   "source": [
    "def handle_upload(change):\n",
    "    for file_info in uploader.value:\n",
    "        filepath = os.path.join(output_dir, uploader.value[file_info]['name'])\n",
    "        \n",
    "        # Save uploaded file to output directory\n",
    "        with open(filepath, 'wb') as f:\n",
    "            f.write(uploader.value[file_info]['content'])\n",
    "        \n",
    "        # Determine loader type and process file\n",
    "        if filepath.endswith('.pdf'):\n",
    "            loader = PDFLoader(filepath)\n",
    "        elif filepath.endswith('.docx'):\n",
    "            loader = DOCXLoader(filepath)\n",
    "        elif filepath.endswith('.pptx'):\n",
    "            loader = PPTLoader(filepath)\n",
    "        else:\n",
    "            print(\"Unsupported file type.\")\n",
    "            return\n",
    "\n",
    "        # Extract data\n",
    "        extractor = DataExtractor(loader) \n",
    "        storage = FileStorage(extractor)\n",
    "        storage.save(output_dir)\n",
    "        print(f\"File processing completed. Outputs saved in: {output_dir}\")\n"
   ]
  },
  {
   "cell_type": "code",
   "execution_count": 14,
   "metadata": {},
   "outputs": [],
   "source": [
    "uploader.observe(handle_upload, names='value')"
   ]
  },
  {
   "cell_type": "code",
   "execution_count": 15,
   "metadata": {},
   "outputs": [
    {
     "data": {
      "application/vnd.jupyter.widget-view+json": {
       "model_id": "431f39253bc441039d6f6f173709d3f2",
       "version_major": 2,
       "version_minor": 0
      },
      "text/plain": [
       "FileUpload(value=(), accept='.pdf,.docx,.pptx', description='Upload')"
      ]
     },
     "metadata": {},
     "output_type": "display_data"
    }
   ],
   "source": [
    "# Display the uploader widget\n",
    "display(uploader)"
   ]
  },
  {
   "cell_type": "code",
   "execution_count": null,
   "metadata": {},
   "outputs": [],
   "source": []
  },
  {
   "cell_type": "code",
   "execution_count": 111,
   "metadata": {},
   "outputs": [],
   "source": [
    "\n"
   ]
  },
  {
   "cell_type": "code",
   "execution_count": null,
   "metadata": {},
   "outputs": [],
   "source": []
  },
  {
   "cell_type": "code",
   "execution_count": null,
   "metadata": {},
   "outputs": [],
   "source": []
  },
  {
   "cell_type": "code",
   "execution_count": null,
   "metadata": {},
   "outputs": [],
   "source": []
  }
 ],
 "metadata": {
  "kernelspec": {
   "display_name": "Python 3",
   "language": "python",
   "name": "python3"
  },
  "language_info": {
   "codemirror_mode": {
    "name": "ipython",
    "version": 3
   },
   "file_extension": ".py",
   "mimetype": "text/x-python",
   "name": "python",
   "nbconvert_exporter": "python",
   "pygments_lexer": "ipython3",
   "version": "3.10.12"
  }
 },
 "nbformat": 4,
 "nbformat_minor": 2
}
