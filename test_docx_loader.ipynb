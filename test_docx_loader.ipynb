{
 "cells": [
  {
   "cell_type": "code",
   "execution_count": 1,
   "metadata": {},
   "outputs": [
    {
     "ename": "ModuleNotFoundError",
     "evalue": "No module named 'file_loaders'",
     "output_type": "error",
     "traceback": [
      "\u001b[0;31m---------------------------------------------------------------------------\u001b[0m",
      "\u001b[0;31mModuleNotFoundError\u001b[0m                       Traceback (most recent call last)",
      "Cell \u001b[0;32mIn[1], line 2\u001b[0m\n\u001b[1;32m      1\u001b[0m \u001b[38;5;28;01mimport\u001b[39;00m \u001b[38;5;21;01munittest\u001b[39;00m\n\u001b[0;32m----> 2\u001b[0m \u001b[38;5;28;01mfrom\u001b[39;00m \u001b[38;5;21;01mfile_loaders\u001b[39;00m\u001b[38;5;21;01m.\u001b[39;00m\u001b[38;5;21;01mdocx_loader\u001b[39;00m \u001b[38;5;28;01mimport\u001b[39;00m DOCXLoader\n\u001b[1;32m      4\u001b[0m \u001b[38;5;28;01mclass\u001b[39;00m \u001b[38;5;21;01mTestDOCXLoader\u001b[39;00m(unittest\u001b[38;5;241m.\u001b[39mTestCase):\n\u001b[1;32m      6\u001b[0m     \u001b[38;5;28;01mdef\u001b[39;00m \u001b[38;5;21msetUp\u001b[39m(\u001b[38;5;28mself\u001b[39m):\n\u001b[1;32m      7\u001b[0m         \u001b[38;5;66;03m# Sample DOCX files\u001b[39;00m\n",
      "\u001b[0;31mModuleNotFoundError\u001b[0m: No module named 'file_loaders'"
     ]
    }
   ],
   "source": [
    "import unittest\n",
    "from file_loaders.docx_loader import DOCXLoader\n",
    "\n",
    "class TestDOCXLoader(unittest.TestCase):\n",
    "\n",
    "    def setUp(self):\n",
    "        # Sample DOCX files\n",
    "        self.sample_docx_path = '/path/to/sample.docx'\n",
    "        self.invalid_docx_path = '/path/to/invalid.docx'\n",
    "        self.docx_loader = DOCXLoader(self.sample_docx_path)\n",
    "\n",
    "    def test_extract_text(self):\n",
    "        # Test text extraction from DOCX\n",
    "        text = self.docx_loader.extract_text()\n",
    "        self.assertIsInstance(text, str)\n",
    "        self.assertGreater(len(text), 0)  # Ensure text is not empty\n",
    "\n",
    "    def test_extract_links(self):\n",
    "        # Test link extraction from DOCX\n",
    "        links = self.docx_loader.extract_links()\n",
    "        self.assertIsInstance(links, list)\n",
    "        self.assertTrue(all(isinstance(link, str) for link in links))  # Ensure all links are strings\n",
    "\n",
    "    def test_extract_images(self):\n",
    "        # Test image extraction from DOCX\n",
    "        images = self.docx_loader.extract_images()\n",
    "        self.assertIsInstance(images, list)\n",
    "        # Ensure image paths are valid strings\n",
    "        self.assertTrue(all(isinstance(image, str) for image in images))\n",
    "\n",
    "    def test_extract_tables(self):\n",
    "        # Test table extraction from DOCX\n",
    "        tables = self.docx_loader.extract_tables()\n",
    "        self.assertIsInstance(tables, list)\n",
    "        self.assertTrue(all(isinstance(table, list) for table in tables))  # Ensure tables are lists of lists\n",
    "\n",
    "    def test_invalid_file(self):\n",
    "        # Test for invalid DOCX file\n",
    "        with self.assertRaises(FileNotFoundError):\n",
    "            DOCXLoader(self.invalid_docx_path)\n",
    "\n",
    "if __name__ == '__main__':\n",
    "    unittest.main()\n"
   ]
  },
  {
   "cell_type": "code",
   "execution_count": null,
   "metadata": {},
   "outputs": [],
   "source": []
  }
 ],
 "metadata": {
  "kernelspec": {
   "display_name": "Python 3",
   "language": "python",
   "name": "python3"
  },
  "language_info": {
   "codemirror_mode": {
    "name": "ipython",
    "version": 3
   },
   "file_extension": ".py",
   "mimetype": "text/x-python",
   "name": "python",
   "nbconvert_exporter": "python",
   "pygments_lexer": "ipython3",
   "version": "3.10.12"
  }
 },
 "nbformat": 4,
 "nbformat_minor": 2
}
